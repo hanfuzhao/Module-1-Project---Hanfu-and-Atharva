{
 "cells": [
  {
   "cell_type": "code",
   "execution_count": 1,
   "id": "328c0de8",
   "metadata": {},
   "outputs": [],
   "source": [
    "import os\n",
    "os.chdir(\"../..\")\n",
    "\n",
    "import pandas as pd\n",
    "import matplotlib.pyplot as plt\n",
    "import numpy as np"
   ]
  },
  {
   "cell_type": "code",
   "execution_count": 5,
   "id": "33342555",
   "metadata": {},
   "outputs": [],
   "source": [
    "COMBINED_CSV_GZ = \"data/processed/ssa_baby_names_1880_2024.csv.gz\"\n",
    "OUT_DIR = \"artifacts\"\n",
    "os.makedirs(OUT_DIR, exist_ok=True)"
   ]
  },
  {
   "cell_type": "code",
   "execution_count": 6,
   "id": "080f3394",
   "metadata": {},
   "outputs": [],
   "source": [
    "df = pd.read_csv(COMBINED_CSV_GZ)"
   ]
  },
  {
   "cell_type": "code",
   "execution_count": 8,
   "id": "c3b858e5",
   "metadata": {},
   "outputs": [
    {
     "data": {
      "text/plain": [
       "(        Name Sex  Count  Year\n",
       " 0       Mary   F   7065  1880\n",
       " 1       Anna   F   2604  1880\n",
       " 2       Emma   F   2003  1880\n",
       " 3  Elizabeth   F   1939  1880\n",
       " 4     Minnie   F   1746  1880,\n",
       "             Name Sex  Count  Year\n",
       " 2149472    Zylyn   M      5  2024\n",
       " 2149473  Zymiere   M      5  2024\n",
       " 2149474   Zypher   M      5  2024\n",
       " 2149475     Zyre   M      5  2024\n",
       " 2149476   Zyrell   M      5  2024,\n",
       " (2149477, 4))"
      ]
     },
     "execution_count": 8,
     "metadata": {},
     "output_type": "execute_result"
    }
   ],
   "source": [
    "df.head(), df.tail(), df.shape"
   ]
  },
  {
   "cell_type": "markdown",
   "id": "71354d5f",
   "metadata": {},
   "source": [
    "### 1. Diversity: Top 10 female names over time"
   ]
  },
  {
   "cell_type": "code",
   "execution_count": 14,
   "id": "9f1abad0",
   "metadata": {},
   "outputs": [],
   "source": [
    "female = df[df[\"Sex\"] == \"F\"]"
   ]
  },
  {
   "cell_type": "code",
   "execution_count": 15,
   "id": "06678b87",
   "metadata": {},
   "outputs": [],
   "source": [
    "def share_top10(group):\n",
    "    return group.nlargest(10, \"Count\")[\"Count\"].sum() / group[\"Count\"].sum()"
   ]
  },
  {
   "cell_type": "code",
   "execution_count": 16,
   "id": "18275d03",
   "metadata": {},
   "outputs": [
    {
     "name": "stderr",
     "output_type": "stream",
     "text": [
      "/var/folders/9p/17kx8lv97jz2n55xy1896pmm0000gn/T/ipykernel_14967/3315834285.py:1: FutureWarning: DataFrameGroupBy.apply operated on the grouping columns. This behavior is deprecated, and in a future version of pandas the grouping columns will be excluded from the operation. Either pass `include_groups=False` to exclude the groupings or explicitly select the grouping columns after groupby to silence this warning.\n",
      "  top10_share_f = female.groupby(\"Year\").apply(share_top10).reset_index(name=\"Top10Share\")\n"
     ]
    }
   ],
   "source": [
    "top10_share_f = female.groupby(\"Year\").apply(share_top10).reset_index(name=\"Top10Share\")\n",
    "top10_share_f.to_csv(os.path.join(OUT_DIR, \"top10_share_female_by_year.csv\"), index=False)"
   ]
  },
  {
   "cell_type": "code",
   "execution_count": 17,
   "id": "c0299d8d",
   "metadata": {},
   "outputs": [],
   "source": [
    "plt.figure()\n",
    "plt.plot(top10_share_f[\"Year\"], top10_share_f[\"Top10Share\"])\n",
    "plt.title(\"Share of Top 10 Girls' Names Over Time (1880–2024)\")\n",
    "plt.xlabel(\"Year\")\n",
    "plt.ylabel(\"Share\")\n",
    "plt.tight_layout()\n",
    "plt.savefig(os.path.join(OUT_DIR, \"top10_share_female_line.png\"))\n",
    "plt.close()"
   ]
  },
  {
   "cell_type": "markdown",
   "id": "d6d9f682",
   "metadata": {},
   "source": [
    "### 2. Volatile Names"
   ]
  },
  {
   "cell_type": "code",
   "execution_count": 18,
   "id": "37c706ad",
   "metadata": {},
   "outputs": [],
   "source": [
    "name_totals = df.groupby(\"Name\")[\"Count\"].sum()\n",
    "popular_names = name_totals[name_totals > 50000].index\n",
    "trends = df[df[\"Name\"].isin(popular_names)].groupby([\"Name\", \"Year\"])[\"Count\"].sum().reset_index()"
   ]
  },
  {
   "cell_type": "code",
   "execution_count": 19,
   "id": "c8c2821c",
   "metadata": {},
   "outputs": [],
   "source": [
    "volatility = trends.groupby(\"Name\")[\"Count\"].agg([\"min\", \"max\"]).reset_index()\n",
    "volatility[\"volatility\"] = (volatility[\"max\"] - volatility[\"min\"]) / volatility[\"max\"]"
   ]
  },
  {
   "cell_type": "code",
   "execution_count": 20,
   "id": "c4f35a67",
   "metadata": {},
   "outputs": [],
   "source": [
    "volatile_top10 = volatility.sort_values(\"volatility\", ascending=False).head(10)\n",
    "volatile_top10.to_csv(os.path.join(OUT_DIR, \"most_volatile_names.csv\"), index=False)"
   ]
  },
  {
   "cell_type": "code",
   "execution_count": 21,
   "id": "38870da5",
   "metadata": {},
   "outputs": [],
   "source": [
    "volatile_top10[\"amplitude\"] = volatile_top10[\"max\"] - volatile_top10[\"min\"]\n",
    "plt.figure()\n",
    "plt.barh(volatile_top10[\"Name\"], volatile_top10[\"amplitude\"])\n",
    "plt.title(\"Most Volatile Popular Names\")\n",
    "plt.xlabel(\"Peak - Trough (counts)\")\n",
    "plt.tight_layout()\n",
    "plt.savefig(os.path.join(OUT_DIR, \"most_volatile_names_barh.png\"))\n",
    "plt.close()"
   ]
  },
  {
   "cell_type": "code",
   "execution_count": 24,
   "id": "5719728a",
   "metadata": {},
   "outputs": [],
   "source": [
    "#making line plots for each volatile name\n",
    "\n",
    "volatile_names = volatile_top10[\"Name\"].tolist()\n",
    "\n",
    "sel = (\n",
    "    df[df[\"Name\"].isin(volatile_names)]\n",
    "    .groupby([\"Name\", \"Year\"])[\"Count\"]\n",
    "    .sum()\n",
    "    .reset_index()\n",
    "    .sort_values([\"Name\", \"Year\"])\n",
    ")"
   ]
  },
  {
   "cell_type": "code",
   "execution_count": 25,
   "id": "60cb8372",
   "metadata": {},
   "outputs": [],
   "source": [
    "#combined line plot, all names\n",
    "\n",
    "plt.figure(figsize=(10, 6))\n",
    "for name, g in sel.groupby(\"Name\"):\n",
    "    plt.plot(g[\"Year\"], g[\"Count\"], label=name, linewidth=1.6)\n",
    "plt.title(\"Most Volatile Popular Names — Yearly Counts\")\n",
    "plt.xlabel(\"Year\"); plt.ylabel(\"Count\")\n",
    "plt.legend(ncol=2, fontsize=9)\n",
    "plt.tight_layout()\n",
    "plt.savefig(os.path.join(OUT_DIR, \"volatile_names_combined_counts.png\"))\n",
    "plt.close()"
   ]
  },
  {
   "cell_type": "code",
   "execution_count": 26,
   "id": "e65ec98e",
   "metadata": {},
   "outputs": [],
   "source": [
    "#combined line plot (normalized to each name's peak = 1.0) for shape comparison\n",
    "sel_norm = sel.copy()\n",
    "sel_norm[\"norm\"] = sel_norm.groupby(\"Name\")[\"Count\"].transform(lambda x: x / x.max())\n",
    "plt.figure(figsize=(10, 6))\n",
    "for name, g in sel_norm.groupby(\"Name\"):\n",
    "    plt.plot(g[\"Year\"], g[\"norm\"], label=name, linewidth=1.6)\n",
    "plt.title(\"Most Volatile Popular Names — Normalized to Peak = 1.0\")\n",
    "plt.xlabel(\"Year\"); plt.ylabel(\"Normalized Popularity\")\n",
    "plt.legend(ncol=2, fontsize=9)\n",
    "plt.tight_layout()\n",
    "plt.savefig(os.path.join(OUT_DIR, \"volatile_names_combined_normalized.png\"))\n",
    "plt.close()"
   ]
  },
  {
   "cell_type": "code",
   "execution_count": 27,
   "id": "6377cfcd",
   "metadata": {},
   "outputs": [],
   "source": [
    "#Individual line plots\n",
    "for name, g in sel.groupby(\"Name\"):\n",
    "    plt.figure(figsize=(8, 4.8))\n",
    "    plt.plot(g[\"Year\"], g[\"Count\"], linewidth=1.8)\n",
    "    plt.title(f\"{name}: Yearly Counts\")\n",
    "    plt.xlabel(\"Year\"); plt.ylabel(\"Count\")\n",
    "    plt.tight_layout()\n",
    "    fname = f\"volatile_{name.lower().replace(' ', '_')}.png\"\n",
    "    plt.savefig(os.path.join(OUT_DIR, fname))\n",
    "    plt.close()"
   ]
  },
  {
   "cell_type": "markdown",
   "id": "e5afa07c",
   "metadata": {},
   "source": [
    "### 3. Gender Neutral Names"
   ]
  },
  {
   "cell_type": "code",
   "execution_count": 22,
   "id": "37ac4b3c",
   "metadata": {},
   "outputs": [],
   "source": [
    "gender_counts = df.groupby([\"Name\", \"Sex\"])[\"Count\"].sum().unstack(fill_value=0)\n",
    "gender_counts[\"ratio\"] = gender_counts.min(axis=1) / gender_counts.max(axis=1)\n",
    "gender_counts[\"total\"] = gender_counts.sum(axis=1)\n",
    "\n",
    "neutral_names = (\n",
    "    gender_counts[gender_counts[\"ratio\"] >= 0.45]\n",
    "    .sort_values(\"total\", ascending=False)\n",
    "    .head(20)\n",
    "    .reset_index()\n",
    ")\n",
    "neutral_names.to_csv(os.path.join(OUT_DIR, \"gender_neutral_names_top20.csv\"), index=False)"
   ]
  },
  {
   "cell_type": "markdown",
   "id": "f86f7cf9",
   "metadata": {},
   "source": [
    "### 4. Pop Culture Trends and SPikes"
   ]
  },
  {
   "cell_type": "code",
   "execution_count": 29,
   "id": "fe931d29",
   "metadata": {},
   "outputs": [],
   "source": [
    "pop_names = [\n",
    "    \"Arya\", \"Kobe\", \"Elsa\", \"Khaleesi\", \"Moana\",\n",
    "    \"Kylo\", \"Rihanna\", \"Beyonce\", \"Zendaya\",\n",
    "    \"Draco\", \"Hermione\", \"Messi\", \"Ronaldo\"\n",
    "]\n"
   ]
  },
  {
   "cell_type": "code",
   "execution_count": 30,
   "id": "8fffd3d1",
   "metadata": {},
   "outputs": [],
   "source": [
    "def get_name_trend(name):\n",
    "    sub = df[df[\"Name\"].str.lower() == name.lower()]\n",
    "    return sub.groupby(\"Year\")[\"Count\"].sum().reset_index().assign(Name=name)"
   ]
  },
  {
   "cell_type": "code",
   "execution_count": 31,
   "id": "4113de02",
   "metadata": {},
   "outputs": [],
   "source": [
    "tr_pop = pd.concat([get_name_trend(n) for n in pop_names], ignore_index=True)\n",
    "tr_pop.to_csv(os.path.join(OUT_DIR, \"pop_culture_trends_extended.csv\"), index=False)"
   ]
  },
  {
   "cell_type": "code",
   "execution_count": 34,
   "id": "3b85c43e",
   "metadata": {},
   "outputs": [],
   "source": [
    "#combined line plot\n",
    "plt.figure(figsize=(12, 7))\n",
    "for name, group in tr_pop.groupby(\"Name\"):\n",
    "    if group[\"Count\"].max() > 50:  # filtering out ultra rare names\n",
    "        plt.plot(group[\"Year\"], group[\"Count\"], label=name)\n",
    "plt.title(\"Pop Culture & Celebrity Name Spikes\")\n",
    "plt.xlabel(\"Year\"); plt.ylabel(\"Count\")\n",
    "plt.legend(ncol=2, fontsize=9)\n",
    "plt.tight_layout()\n",
    "plt.savefig(os.path.join(OUT_DIR, \"pop_culture_trends_extended.png\"))\n",
    "plt.close()"
   ]
  },
  {
   "cell_type": "code",
   "execution_count": 35,
   "id": "cfc5c9f5",
   "metadata": {},
   "outputs": [],
   "source": [
    "#individual line plots\n",
    "for name, group in tr_pop.groupby(\"Name\"):\n",
    "    if group[\"Count\"].max() > 50:  # skip ultra-rare names\n",
    "        plt.figure(figsize=(8, 4.5))\n",
    "        plt.plot(group[\"Year\"], group[\"Count\"], linewidth=1.8)\n",
    "        plt.title(f\"{name}: Popularity Over Time\")\n",
    "        plt.xlabel(\"Year\")\n",
    "        plt.ylabel(\"Count\")\n",
    "        plt.tight_layout()\n",
    "        fname = f\"pop_{name.lower().replace(' ', '_')}.png\"\n",
    "        plt.savefig(os.path.join(OUT_DIR, fname))\n",
    "        plt.close()"
   ]
  },
  {
   "cell_type": "markdown",
   "id": "ab2b75f1",
   "metadata": {},
   "source": [
    "### 5. Iconic names of all time"
   ]
  },
  {
   "cell_type": "code",
   "execution_count": 36,
   "id": "44b5106f",
   "metadata": {},
   "outputs": [],
   "source": [
    "iconic_names = [\n",
    "    \"Mary\", \"John\", \"William\", \"James\",        # early classics\n",
    "    \"Robert\", \"Linda\", \"David\", \"Susan\",       # mid century\n",
    "    \"Michael\", \"Jennifer\", \"Jessica\", \"Ashley\",# late 20th century\n",
    "    \"Olivia\", \"Emma\", \"Liam\", \"Noah\"           # modern\n",
    "]"
   ]
  },
  {
   "cell_type": "code",
   "execution_count": 37,
   "id": "3724b650",
   "metadata": {},
   "outputs": [],
   "source": [
    "iconic_df = (\n",
    "    df[df[\"Name\"].isin(iconic_names)]\n",
    "    .groupby([\"Name\", \"Year\"])[\"Count\"].sum()\n",
    "    .reset_index()\n",
    ")"
   ]
  },
  {
   "cell_type": "code",
   "execution_count": 38,
   "id": "3f478a8a",
   "metadata": {},
   "outputs": [],
   "source": [
    "iconic_df.to_csv(os.path.join(OUT_DIR, \"iconic_names_trends_expanded.csv\"), index=False)"
   ]
  },
  {
   "cell_type": "code",
   "execution_count": 39,
   "id": "588d9d5e",
   "metadata": {},
   "outputs": [],
   "source": [
    "plt.figure(figsize=(12, 7))\n",
    "for name, group in iconic_df.groupby(\"Name\"):\n",
    "    plt.plot(group[\"Year\"], group[\"Count\"], label=name)\n",
    "plt.title(\"Generational Shifts in Iconic Names (1880–2024)\")\n",
    "plt.xlabel(\"Year\")\n",
    "plt.ylabel(\"Count\")\n",
    "plt.legend(ncol=2, fontsize=9)\n",
    "plt.tight_layout()\n",
    "plt.savefig(os.path.join(OUT_DIR, \"iconic_names_trends_expanded.png\"))\n",
    "plt.close()"
   ]
  },
  {
   "cell_type": "code",
   "execution_count": 40,
   "id": "7baf1aae",
   "metadata": {},
   "outputs": [],
   "source": [
    "#individual line plots\n",
    "\n",
    "ymax = iconic_df[\"Count\"].max() #same y-scale for all plots\n",
    "\n",
    "for name, group in iconic_df.groupby(\"Name\"):\n",
    "    plt.figure(figsize=(8, 4.5))\n",
    "    plt.plot(group[\"Year\"], group[\"Count\"], linewidth=1.8)\n",
    "    plt.title(f\"{name}: Popularity Over Time\")\n",
    "    plt.xlabel(\"Year\")\n",
    "    plt.ylabel(\"Count\")\n",
    "    plt.ylim(0, ymax) \n",
    "    plt.tight_layout()\n",
    "    fname = f\"iconic_{name.lower()}.png\"\n",
    "    plt.savefig(os.path.join(OUT_DIR, fname))\n",
    "    plt.close()"
   ]
  },
  {
   "cell_type": "markdown",
   "id": "32a771e4",
   "metadata": {},
   "source": [
    "### 6. Top 10 names per year"
   ]
  },
  {
   "cell_type": "code",
   "execution_count": 42,
   "id": "163d7155",
   "metadata": {},
   "outputs": [],
   "source": [
    "import bar_chart_race as bcr"
   ]
  },
  {
   "cell_type": "code",
   "execution_count": 43,
   "id": "c987533d",
   "metadata": {},
   "outputs": [],
   "source": [
    "topN = 10\n",
    "df_top = (\n",
    "    df.groupby(['Year', 'Name'])['Count'].sum()\n",
    "    .reset_index()\n",
    ")"
   ]
  },
  {
   "cell_type": "code",
   "execution_count": 44,
   "id": "158429dd",
   "metadata": {},
   "outputs": [
    {
     "name": "stderr",
     "output_type": "stream",
     "text": [
      "/var/folders/9p/17kx8lv97jz2n55xy1896pmm0000gn/T/ipykernel_14967/1629464141.py:3: FutureWarning: DataFrameGroupBy.apply operated on the grouping columns. This behavior is deprecated, and in a future version of pandas the grouping columns will be excluded from the operation. Either pass `include_groups=False` to exclude the groupings or explicitly select the grouping columns after groupby to silence this warning.\n",
      "  .apply(lambda g: g.nlargest(topN, 'Count'))\n"
     ]
    }
   ],
   "source": [
    "top_by_year = (\n",
    "    df_top.groupby('Year')\n",
    "    .apply(lambda g: g.nlargest(topN, 'Count'))\n",
    "    .reset_index(drop=True)\n",
    ")\n",
    "names_keep = top_by_year['Name'].unique()"
   ]
  },
  {
   "cell_type": "code",
   "execution_count": 45,
   "id": "4f0fc81a",
   "metadata": {},
   "outputs": [],
   "source": [
    "\n",
    "df_filtered = df_top[df_top['Name'].isin(names_keep)]\n",
    "pivoted = df_filtered.pivot(index='Year', columns='Name', values='Count').fillna(0)"
   ]
  },
  {
   "cell_type": "code",
   "execution_count": 47,
   "id": "74523f04",
   "metadata": {},
   "outputs": [
    {
     "name": "stderr",
     "output_type": "stream",
     "text": [
      "/Users/atharvajog/code/AIPI-510/Module 1 Project - Storytelling/.venv/lib/python3.12/site-packages/bar_chart_race/_make_chart.py:889: FutureWarning: Series.fillna with 'method' is deprecated and will raise in a future version. Use obj.ffill() or obj.bfill() instead.\n",
      "  df_values.iloc[:, 0] = df_values.iloc[:, 0].fillna(method='ffill')\n",
      "/Users/atharvajog/code/AIPI-510/Module 1 Project - Storytelling/.venv/lib/python3.12/site-packages/bar_chart_race/_make_chart.py:284: UserWarning: Glyph 127 () missing from font(s) DejaVu Sans.\n",
      "  fig.canvas.print_figure(io.BytesIO())\n",
      "/Users/atharvajog/code/AIPI-510/Module 1 Project - Storytelling/.venv/lib/python3.12/site-packages/bar_chart_race/_make_chart.py:284: UserWarning: Glyph 128 (\\x80) missing from font(s) DejaVu Sans.\n",
      "  fig.canvas.print_figure(io.BytesIO())\n",
      "/Users/atharvajog/code/AIPI-510/Module 1 Project - Storytelling/.venv/lib/python3.12/site-packages/bar_chart_race/_make_chart.py:284: UserWarning: Glyph 129 (\\x81) missing from font(s) DejaVu Sans.\n",
      "  fig.canvas.print_figure(io.BytesIO())\n",
      "/Users/atharvajog/code/AIPI-510/Module 1 Project - Storytelling/.venv/lib/python3.12/site-packages/bar_chart_race/_make_chart.py:284: UserWarning: Glyph 130 (\\x82) missing from font(s) DejaVu Sans.\n",
      "  fig.canvas.print_figure(io.BytesIO())\n",
      "/Users/atharvajog/code/AIPI-510/Module 1 Project - Storytelling/.venv/lib/python3.12/site-packages/bar_chart_race/_make_chart.py:284: UserWarning: Glyph 131 (\\x83) missing from font(s) DejaVu Sans.\n",
      "  fig.canvas.print_figure(io.BytesIO())\n",
      "/Users/atharvajog/code/AIPI-510/Module 1 Project - Storytelling/.venv/lib/python3.12/site-packages/bar_chart_race/_make_chart.py:284: UserWarning: Glyph 132 (\\x84) missing from font(s) DejaVu Sans.\n",
      "  fig.canvas.print_figure(io.BytesIO())\n",
      "/Users/atharvajog/code/AIPI-510/Module 1 Project - Storytelling/.venv/lib/python3.12/site-packages/bar_chart_race/_make_chart.py:284: UserWarning: Glyph 133 (\\x85) missing from font(s) DejaVu Sans.\n",
      "  fig.canvas.print_figure(io.BytesIO())\n",
      "/Users/atharvajog/code/AIPI-510/Module 1 Project - Storytelling/.venv/lib/python3.12/site-packages/bar_chart_race/_make_chart.py:284: UserWarning: Glyph 134 (\\x86) missing from font(s) DejaVu Sans.\n",
      "  fig.canvas.print_figure(io.BytesIO())\n",
      "/Users/atharvajog/code/AIPI-510/Module 1 Project - Storytelling/.venv/lib/python3.12/site-packages/bar_chart_race/_make_chart.py:284: UserWarning: Glyph 135 (\\x87) missing from font(s) DejaVu Sans.\n",
      "  fig.canvas.print_figure(io.BytesIO())\n",
      "/Users/atharvajog/code/AIPI-510/Module 1 Project - Storytelling/.venv/lib/python3.12/site-packages/bar_chart_race/_make_chart.py:284: UserWarning: Glyph 136 (\\x88) missing from font(s) DejaVu Sans.\n",
      "  fig.canvas.print_figure(io.BytesIO())\n",
      "/Users/atharvajog/code/AIPI-510/Module 1 Project - Storytelling/.venv/lib/python3.12/site-packages/bar_chart_race/_make_chart.py:284: UserWarning: Glyph 137 (\\x89) missing from font(s) DejaVu Sans.\n",
      "  fig.canvas.print_figure(io.BytesIO())\n",
      "/Users/atharvajog/code/AIPI-510/Module 1 Project - Storytelling/.venv/lib/python3.12/site-packages/bar_chart_race/_make_chart.py:284: UserWarning: Glyph 138 (\\x8a) missing from font(s) DejaVu Sans.\n",
      "  fig.canvas.print_figure(io.BytesIO())\n",
      "/Users/atharvajog/code/AIPI-510/Module 1 Project - Storytelling/.venv/lib/python3.12/site-packages/bar_chart_race/_make_chart.py:284: UserWarning: Glyph 139 (\\x8b) missing from font(s) DejaVu Sans.\n",
      "  fig.canvas.print_figure(io.BytesIO())\n",
      "/Users/atharvajog/code/AIPI-510/Module 1 Project - Storytelling/.venv/lib/python3.12/site-packages/bar_chart_race/_make_chart.py:284: UserWarning: Glyph 140 (\\x8c) missing from font(s) DejaVu Sans.\n",
      "  fig.canvas.print_figure(io.BytesIO())\n",
      "/Users/atharvajog/code/AIPI-510/Module 1 Project - Storytelling/.venv/lib/python3.12/site-packages/bar_chart_race/_make_chart.py:284: UserWarning: Glyph 141 (\\x8d) missing from font(s) DejaVu Sans.\n",
      "  fig.canvas.print_figure(io.BytesIO())\n",
      "/Users/atharvajog/code/AIPI-510/Module 1 Project - Storytelling/.venv/lib/python3.12/site-packages/bar_chart_race/_make_chart.py:284: UserWarning: Glyph 142 (\\x8e) missing from font(s) DejaVu Sans.\n",
      "  fig.canvas.print_figure(io.BytesIO())\n",
      "/Users/atharvajog/code/AIPI-510/Module 1 Project - Storytelling/.venv/lib/python3.12/site-packages/bar_chart_race/_make_chart.py:284: UserWarning: Glyph 143 (\\x8f) missing from font(s) DejaVu Sans.\n",
      "  fig.canvas.print_figure(io.BytesIO())\n",
      "/Users/atharvajog/code/AIPI-510/Module 1 Project - Storytelling/.venv/lib/python3.12/site-packages/bar_chart_race/_make_chart.py:284: UserWarning: Glyph 144 (\\x90) missing from font(s) DejaVu Sans.\n",
      "  fig.canvas.print_figure(io.BytesIO())\n",
      "/Users/atharvajog/code/AIPI-510/Module 1 Project - Storytelling/.venv/lib/python3.12/site-packages/bar_chart_race/_make_chart.py:284: UserWarning: Glyph 145 (\\x91) missing from font(s) DejaVu Sans.\n",
      "  fig.canvas.print_figure(io.BytesIO())\n",
      "/Users/atharvajog/code/AIPI-510/Module 1 Project - Storytelling/.venv/lib/python3.12/site-packages/bar_chart_race/_make_chart.py:284: UserWarning: Glyph 146 (\\x92) missing from font(s) DejaVu Sans.\n",
      "  fig.canvas.print_figure(io.BytesIO())\n",
      "/Users/atharvajog/code/AIPI-510/Module 1 Project - Storytelling/.venv/lib/python3.12/site-packages/bar_chart_race/_make_chart.py:286: UserWarning: set_ticklabels() should only be used with a fixed number of ticks, i.e. after set_ticks() or using a FixedLocator.\n",
      "  ax.set_yticklabels(self.df_values.columns)\n",
      "/Users/atharvajog/code/AIPI-510/Module 1 Project - Storytelling/.venv/lib/python3.12/site-packages/bar_chart_race/_make_chart.py:287: UserWarning: set_ticklabels() should only be used with a fixed number of ticks, i.e. after set_ticks() or using a FixedLocator.\n",
      "  ax.set_xticklabels([max_val] * len(ax.get_xticks()))\n",
      "MovieWriter imagemagick unavailable; using Pillow instead.\n"
     ]
    }
   ],
   "source": [
    "\n",
    "bcr.bar_chart_race(\n",
    "    df=pivoted,\n",
    "    filename='artifacts/name_evolution_race.gif', \n",
    "    orientation='h',\n",
    "    n_bars=10,\n",
    "    title='Top 10 Baby Names in the U.S. (1880–2024)',\n",
    "    period_length=400,\n",
    "    figsize=(8,5)\n",
    ")"
   ]
  },
  {
   "cell_type": "code",
   "execution_count": null,
   "id": "3e4e3c12",
   "metadata": {},
   "outputs": [],
   "source": [
    "#decade-wise top names\n",
    "\n",
    "names = df.copy()\n",
    "names[\"Decade\"] = (names[\"Year\"] // 10) * 10\n",
    "\n",
    "decade_counts = (\n",
    "    names.groupby([\"Decade\", \"Name\"])[\"Count\"]\n",
    "    .sum()\n",
    "    .reset_index()\n",
    ")"
   ]
  },
  {
   "cell_type": "code",
   "execution_count": 49,
   "id": "265f50ef",
   "metadata": {},
   "outputs": [
    {
     "name": "stderr",
     "output_type": "stream",
     "text": [
      "/var/folders/9p/17kx8lv97jz2n55xy1896pmm0000gn/T/ipykernel_14967/4215357487.py:4: FutureWarning: DataFrameGroupBy.apply operated on the grouping columns. This behavior is deprecated, and in a future version of pandas the grouping columns will be excluded from the operation. Either pass `include_groups=False` to exclude the groupings or explicitly select the grouping columns after groupby to silence this warning.\n",
      "  .apply(lambda g: g.nlargest(TOP_N, \"Count\"))\n"
     ]
    }
   ],
   "source": [
    "TOP_N = 8\n",
    "top_by_decade = (\n",
    "    decade_counts.groupby(\"Decade\")\n",
    "    .apply(lambda g: g.nlargest(TOP_N, \"Count\"))\n",
    "    .reset_index(drop=True)\n",
    ")\n",
    "keep = top_by_decade[\"Name\"].unique()"
   ]
  },
  {
   "cell_type": "code",
   "execution_count": 50,
   "id": "b65d9720",
   "metadata": {},
   "outputs": [],
   "source": [
    "filtered = decade_counts[decade_counts[\"Name\"].isin(keep)]\n",
    "pivoted = (\n",
    "    filtered.pivot(index=\"Decade\", columns=\"Name\", values=\"Count\")\n",
    "    .sort_index()\n",
    "    .fillna(0)\n",
    ")"
   ]
  },
  {
   "cell_type": "code",
   "execution_count": 51,
   "id": "c55801b0",
   "metadata": {},
   "outputs": [],
   "source": [
    "fixed_max = float(pivoted.to_numpy().max()) * 1.1"
   ]
  },
  {
   "cell_type": "code",
   "execution_count": 52,
   "id": "b6ed5cde",
   "metadata": {},
   "outputs": [
    {
     "name": "stderr",
     "output_type": "stream",
     "text": [
      "/Users/atharvajog/code/AIPI-510/Module 1 Project - Storytelling/.venv/lib/python3.12/site-packages/bar_chart_race/_make_chart.py:286: UserWarning: set_ticklabels() should only be used with a fixed number of ticks, i.e. after set_ticks() or using a FixedLocator.\n",
      "  ax.set_yticklabels(self.df_values.columns)\n",
      "/Users/atharvajog/code/AIPI-510/Module 1 Project - Storytelling/.venv/lib/python3.12/site-packages/bar_chart_race/_make_chart.py:287: UserWarning: set_ticklabels() should only be used with a fixed number of ticks, i.e. after set_ticks() or using a FixedLocator.\n",
      "  ax.set_xticklabels([max_val] * len(ax.get_xticks()))\n",
      "MovieWriter imagemagick unavailable; using Pillow instead.\n"
     ]
    }
   ],
   "source": [
    "\n",
    "bcr.bar_chart_race(\n",
    "    df=pivoted,\n",
    "    filename=f\"{OUT_DIR}/name_evolution_race_decades.gif\",\n",
    "    n_bars=TOP_N,\n",
    "    orientation='h',\n",
    "    sort='desc',\n",
    "    fixed_max=fixed_max,\n",
    "    steps_per_period=10,       \n",
    "    interpolate_period=True,    \n",
    "    period_length=900,          \n",
    "    period_fmt='{x:.0f}s',      \n",
    "    period_label={'x': .99, 'y': .12, 'ha': 'right', 'size': 14},\n",
    "    bar_size=.92,\n",
    "    shared_fontdict={'size': 12},\n",
    "    tick_label_size=11,\n",
    "    dpi=140,\n",
    "    title='Top 8 Baby Names in the U.S. by Decade (1880s–2020s)'\n",
    ")"
   ]
  },
  {
   "cell_type": "markdown",
   "id": "a2157d52",
   "metadata": {},
   "source": [
    "### 7. Name Diversity Explosion"
   ]
  },
  {
   "cell_type": "code",
   "execution_count": 53,
   "id": "ea01c4cf",
   "metadata": {},
   "outputs": [
    {
     "name": "stderr",
     "output_type": "stream",
     "text": [
      "/var/folders/9p/17kx8lv97jz2n55xy1896pmm0000gn/T/ipykernel_14967/177259610.py:5: FutureWarning: DataFrameGroupBy.apply operated on the grouping columns. This behavior is deprecated, and in a future version of pandas the grouping columns will be excluded from the operation. Either pass `include_groups=False` to exclude the groupings or explicitly select the grouping columns after groupby to silence this warning.\n",
      "  .apply(lambda g: pd.Series({\n"
     ]
    }
   ],
   "source": [
    "#computing yearly diversity metrics\n",
    "\n",
    "diversity = (\n",
    "    df.groupby('Year')\n",
    "    .apply(lambda g: pd.Series({\n",
    "        'UniqueNames': g['Name'].nunique(),\n",
    "        'CommonNames100+': (g['Count'] > 100).sum(),\n",
    "        'ShannonEntropy': -np.sum((g['Count']/g['Count'].sum()) * np.log2(g['Count']/g['Count'].sum()))\n",
    "    }))\n",
    "    .reset_index()\n",
    ")\n",
    "\n",
    "diversity.to_csv(f\"{OUT_DIR}/name_diversity.csv\", index=False)"
   ]
  },
  {
   "cell_type": "code",
   "execution_count": 54,
   "id": "a5634027",
   "metadata": {},
   "outputs": [],
   "source": [
    "#number of unique vs common names plot\n",
    "plt.figure(figsize=(10,6))\n",
    "plt.plot(diversity['Year'], diversity['UniqueNames'], label='All unique names', alpha=0.6)\n",
    "plt.plot(diversity['Year'], diversity['CommonNames100+'], label='Names with >100 births')\n",
    "plt.title(\"The Explosion of Baby Name Diversity in the U.S. (1880–2024)\")\n",
    "plt.xlabel(\"Year\")\n",
    "plt.ylabel(\"Number of Names\")\n",
    "plt.legend()\n",
    "plt.tight_layout()\n",
    "plt.savefig(f\"{OUT_DIR}/name_diversity_explosion.png\")\n",
    "plt.close()"
   ]
  },
  {
   "cell_type": "code",
   "execution_count": 55,
   "id": "588788ca",
   "metadata": {},
   "outputs": [],
   "source": [
    "#evenness of name distribution (Shannon entropy)\n",
    "plt.figure(figsize=(10,6))\n",
    "plt.plot(diversity['Year'], diversity['ShannonEntropy'], color=\"purple\")\n",
    "plt.title(\"Shannon Entropy of Baby Names (1880–2024)\")\n",
    "plt.xlabel(\"Year\")\n",
    "plt.ylabel(\"Entropy (bits)\")\n",
    "plt.tight_layout()\n",
    "plt.savefig(f\"{OUT_DIR}/name_entropy.png\")\n",
    "plt.close()"
   ]
  }
 ],
 "metadata": {
  "kernelspec": {
   "display_name": ".venv (3.12.3)",
   "language": "python",
   "name": "python3"
  },
  "language_info": {
   "codemirror_mode": {
    "name": "ipython",
    "version": 3
   },
   "file_extension": ".py",
   "mimetype": "text/x-python",
   "name": "python",
   "nbconvert_exporter": "python",
   "pygments_lexer": "ipython3",
   "version": "3.12.3"
  }
 },
 "nbformat": 4,
 "nbformat_minor": 5
}
